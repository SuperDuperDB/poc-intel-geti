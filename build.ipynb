{
 "cells": [
  {
   "cell_type": "markdown",
   "id": "89fc820f-7b6c-4add-8b2d-e70069a6d0db",
   "metadata": {},
   "source": [
    "# INTEL GETI Docs Chatbot"
   ]
  },
  {
   "cell_type": "markdown",
   "id": "5a3923a0-d10f-44b7-9c8a-8cc499953173",
   "metadata": {},
   "source": [
    "Install related dependencies"
   ]
  },
  {
   "cell_type": "code",
   "execution_count": 1,
   "id": "f8580979-8994-41a1-818a-24bef3cec47c",
   "metadata": {},
   "outputs": [],
   "source": [
    "# !pip install superduperdb unstructured pandas openai aiohttp"
   ]
  },
  {
   "cell_type": "markdown",
   "id": "3885e6a8-6118-4e0f-9875-f35470421479",
   "metadata": {},
   "source": [
    "## Crawling Pages\n",
    "\n",
    "Crawl pages based on the provided links. Additionally, retrieve a list of new pages from the sidebar directory information and continue crawling until all pages have been crawled."
   ]
  },
  {
   "cell_type": "code",
   "execution_count": 2,
   "id": "d6964c15-4c01-4d20-a6d4-5d6469983f78",
   "metadata": {},
   "outputs": [
    {
     "name": "stdout",
     "output_type": "stream",
     "text": [
      "parse https://openvinotoolkit.github.io/geti-sdk/index.html\n"
     ]
    }
   ],
   "source": [
    "import requests\n",
    "from bs4 import BeautifulSoup\n",
    "import re\n",
    "from urllib.parse import urljoin\n",
    "\n",
    "def is_toctree_class(tag):\n",
    "    classes = tag.get('class', [])\n",
    "    return any(re.match('toctree-l\\d+', cls) for cls in classes)\n",
    "\n",
    "def filter_sub_urls(all_urls):\n",
    "    # remove the URL with #, for example: http://xxxx.com/xxx#P1\n",
    "    base_urls_set = {url for _, url in all_urls if '#' not in url}\n",
    "    new_urls = []\n",
    "    for page_name, url in all_urls:\n",
    "        if '#' in url and url.split('#')[0] in base_urls_set:\n",
    "            continue\n",
    "        else:\n",
    "            new_urls.append((page_name, url))\n",
    "    return new_urls\n",
    "\n",
    "def process_code_snippets(text):\n",
    "    soup = BeautifulSoup(text, 'html.parser')\n",
    "    pre_tags = soup.find_all('pre')\n",
    "\n",
    "    for pre in pre_tags:\n",
    "        processed_text = str(pre.text)\n",
    "        new_content = \"CODE::\"+soup.new_string(processed_text)\n",
    "        pre.clear()\n",
    "        pre.append(new_content)\n",
    "    return str(soup)\n",
    "            \n",
    "    \n",
    "def parse_url(seed_url):\n",
    "    print(f\"parse {seed_url}\")\n",
    "    response = requests.get(seed_url)\n",
    "    # Parse the HTML content\n",
    "    soup = BeautifulSoup(response.content, 'html.parser')\n",
    "    page_urls = []\n",
    "    for l in soup.find_all(is_toctree_class):\n",
    "        page_name = l.find('a').text.strip()\n",
    "        href = l.find('a')['href'] if l.find('a') else ''\n",
    "        if href:\n",
    "            url = urljoin(seed_url, href)\n",
    "            page_urls.append((page_name, url))\n",
    "\n",
    "    page_urls = filter_sub_urls(page_urls)\n",
    "    source_html = response.text\n",
    "    source_html = process_code_snippets(source_html)\n",
    "            \n",
    "    return source_html, page_urls\n",
    "\n",
    "# URL of the page to scrape\n",
    "filter_tag = \"geti_sdk.\"\n",
    "url_sets = set()\n",
    "url_sets.add(\"https://openvinotoolkit.github.io/geti-sdk/index.html\")\n",
    "url_sets.add(\"https://docs.geti.intel.com/on-prem/1.8/guide/get-started/introduction.html\")\n",
    "url_waiting_list = url_sets.copy()\n",
    "pages = list()\n",
    "while url_waiting_list:\n",
    "    url = url_waiting_list.pop()\n",
    "    source_html, page_urls = parse_url(url)\n",
    "    pages.append((url, source_html))\n",
    "    break\n",
    "    new_urls = {url for _, url in page_urls if url not in url_sets}\n",
    "    new_urls = {url for url in new_urls if filter_tag not in url}\n",
    "    url_waiting_list.update(new_urls)\n",
    "    url_sets.update(new_urls)"
   ]
  },
  {
   "cell_type": "markdown",
   "id": "ca3c8688-9d57-410e-8232-7232257e0417",
   "metadata": {},
   "source": [
    "## Importing Webpage Data into Database"
   ]
  },
  {
   "cell_type": "markdown",
   "id": "f7ae0143-8ae2-4efe-b46e-f8b165e4be6e",
   "metadata": {},
   "source": [
    "### Using SuperduperDB to Connect to Database"
   ]
  },
  {
   "cell_type": "code",
   "execution_count": 3,
   "id": "bedba21d-f2da-4da5-8a73-d091a8130dab",
   "metadata": {},
   "outputs": [
    {
     "name": "stderr",
     "output_type": "stream",
     "text": [
      "/Users/zhouhaha/workspace/SuperDuperDB/poc-geti/env/lib/python3.10/site-packages/tqdm/auto.py:21: TqdmWarning: IProgress not found. Please update jupyter and ipywidgets. See https://ipywidgets.readthedocs.io/en/stable/user_install.html\n",
      "  from .autonotebook import tqdm as notebook_tqdm\n",
      "2024-02-19 19:59:53,006\tINFO util.py:154 -- Missing packages: ['ipywidgets']. Run `pip install -U ipywidgets`, then restart the notebook server for rich notebook output.\n"
     ]
    },
    {
     "name": "stdout",
     "output_type": "stream",
     "text": [
      "\u001b[32m 2024-Feb-19 19:59:53.01\u001b[0m| \u001b[1mINFO    \u001b[0m | \u001b[36m183eefeaab2d\u001b[0m| \u001b[36m1cd33afc-bd71-4b70-bdcf-eac97e6bf5b6\u001b[0m| \u001b[36msuperduperdb.base.build\u001b[0m:\u001b[36m61  \u001b[0m | \u001b[1mData Client is ready. MongoClient(host=['127.0.0.1:27017'], document_class=dict, tz_aware=False, connect=True, serverselectiontimeoutms=5000)\u001b[0m\n",
      "\u001b[32m 2024-Feb-19 19:59:53.02\u001b[0m| \u001b[1mINFO    \u001b[0m | \u001b[36m183eefeaab2d\u001b[0m| \u001b[36m1cd33afc-bd71-4b70-bdcf-eac97e6bf5b6\u001b[0m| \u001b[36msuperduperdb.base.build\u001b[0m:\u001b[36m36  \u001b[0m | \u001b[1mConnecting to Metadata Client with engine:  MongoClient(host=['127.0.0.1:27017'], document_class=dict, tz_aware=False, connect=True, serverselectiontimeoutms=5000)\u001b[0m\n",
      "\u001b[32m 2024-Feb-19 19:59:53.02\u001b[0m| \u001b[1mINFO    \u001b[0m | \u001b[36m183eefeaab2d\u001b[0m| \u001b[36m1cd33afc-bd71-4b70-bdcf-eac97e6bf5b6\u001b[0m| \u001b[36msuperduperdb.base.build\u001b[0m:\u001b[36m144 \u001b[0m | \u001b[1mConnecting to compute client: local\u001b[0m\n",
      "\u001b[32m 2024-Feb-19 19:59:53.02\u001b[0m| \u001b[1mINFO    \u001b[0m | \u001b[36m183eefeaab2d\u001b[0m| \u001b[36m1cd33afc-bd71-4b70-bdcf-eac97e6bf5b6\u001b[0m| \u001b[36msuperduperdb.base.datalayer\u001b[0m:\u001b[36m80  \u001b[0m | \u001b[1mBuilding Data Layer\u001b[0m\n"
     ]
    }
   ],
   "source": [
    "from superduperdb import superduper\n",
    "db = superduper(\"mongodb://127.0.0.1:27017/intel-geti\")\n",
    "db.drop(force=True)"
   ]
  },
  {
   "cell_type": "markdown",
   "id": "51be29fe-8558-426e-98e2-68045cb4a6fe",
   "metadata": {},
   "source": [
    "Store the webpage data into the database after unstructured parsing."
   ]
  },
  {
   "cell_type": "code",
   "execution_count": null,
   "id": "c8c4fb8e-86ea-4bc7-b68c-f5d289a00d71",
   "metadata": {},
   "outputs": [],
   "source": [
    "from unstructured.partition.html import partition_html\n",
    "from superduperdb.ext.unstructured.encoder import unstructured_encoder\n",
    "\n",
    "db.add(unstructured_encoder)\n",
    "\n",
    "datas = []\n",
    "for url, source_html in pages:\n",
    "    elements = partition_html(text=source_html, html_assemble_articles=True)\n",
    "    if elements:\n",
    "        datas.append({'url': url, 'elements': unstructured_encoder(elements)})\n",
    "\n",
    "from superduperdb import Document\n",
    "from superduperdb.backends.mongodb import Collection\n",
    "documents = list(map(Document, datas))\n",
    "collection = Collection(\"pages\")\n",
    "collection.insert_many(documents).execute(db)"
   ]
  },
  {
   "cell_type": "markdown",
   "id": "5556877a-3b7e-4f7e-a675-c4b6c82309ad",
   "metadata": {},
   "source": [
    "## Parsing and Chunking Webpages"
   ]
  },
  {
   "cell_type": "markdown",
   "id": "d7b0fb34-909d-4a99-903b-06602073a3bc",
   "metadata": {},
   "source": [
    "Define an title ecognition function to be used as chunk identifiers."
   ]
  },
  {
   "cell_type": "code",
   "execution_count": null,
   "id": "5d37b889-91e0-4394-bc5a-2573564cd91c",
   "metadata": {},
   "outputs": [],
   "source": [
    "from unstructured.documents.elements import ElementType\n",
    "\n",
    "def get_title_data(element):\n",
    "    data = {}\n",
    "    if element.category != ElementType.TITLE:\n",
    "        return data\n",
    "    if 'link_urls' not in element.metadata.to_dict():\n",
    "        return data\n",
    "\n",
    "    if 'category_depth' not in element.metadata.to_dict():\n",
    "        return data\n",
    "\n",
    "    [link_text, *_] = element.metadata.link_texts\n",
    "\n",
    "    if not link_text:\n",
    "        return data\n",
    "\n",
    "    link_urls = element.metadata.link_urls\n",
    "    if not link_urls:\n",
    "        return data\n",
    "    category_depth = element.metadata.category_depth\n",
    "    return {'link': link_urls[0], 'category_depth':category_depth}"
   ]
  },
  {
   "cell_type": "markdown",
   "id": "f62b2c13-caa8-4810-a75d-e36fe2028064",
   "metadata": {},
   "source": [
    "Define conversion methods for different types of text, such as titles, lists, tables, and code.\n"
   ]
  },
  {
   "cell_type": "code",
   "execution_count": 6,
   "id": "ec51fd27-2ef1-48df-add3-83d07b98c2af",
   "metadata": {},
   "outputs": [],
   "source": [
    "import pandas as pd\n",
    "from io import StringIO\n",
    "def element2text(element):\n",
    "    title_message = get_title_data(element)\n",
    "    text = element.text\n",
    "    if title_message:\n",
    "        title_tags = '#' * (title_message['category_depth'] + 1)\n",
    "        text = title_tags + ' ' + text\n",
    "        text = text.rstrip('#')\n",
    "\n",
    "    elif element.category == ElementType.LIST_ITEM:\n",
    "        text = '- ' + text\n",
    "\n",
    "    elif element.category == ElementType.TABLE:\n",
    "        html = element.metadata.text_as_html\n",
    "        html = html.replace('|', '')\n",
    "        df = pd.read_html(StringIO(html))[0]\n",
    "        text = df.to_markdown(index=False)\n",
    "        text = text + '  \\n'\n",
    "\n",
    "    if text.startswith(\"CODE::\"):\n",
    "        text = f\"```\\n{text[6:]}\\n```\"\n",
    "\n",
    "    return text"
   ]
  },
  {
   "cell_type": "markdown",
   "id": "ef35cb56-520e-40be-bdd1-f6ee4240f490",
   "metadata": {},
   "source": [
    "Define chunking functions."
   ]
  },
  {
   "cell_type": "code",
   "execution_count": 7,
   "id": "63b09f64-edeb-4b71-8ce1-c13f24ccbec3",
   "metadata": {},
   "outputs": [],
   "source": [
    "from collections import defaultdict\n",
    "def get_chunks(elements):\n",
    "    chunk_tree = defaultdict(list)\n",
    "    now_depth = -1\n",
    "    now_path = 'root'\n",
    "    for element in elements:\n",
    "        title_data = get_title_data(element)\n",
    "        if not title_data:\n",
    "            chunk_tree[now_path].append(element)\n",
    "        else:\n",
    "            link = title_data['link']\n",
    "            depth = title_data['category_depth']\n",
    "            if depth > now_depth:\n",
    "                now_path = now_path + \"::\" +link\n",
    "            else:\n",
    "                now_path = '::'.join(now_path.split(\"::\")[:depth+1] + [link])\n",
    "            now_depth = depth\n",
    "            chunk_tree[now_path].append(element)\n",
    "     \n",
    "    chunks = []\n",
    "    for node_path, node_elements in chunk_tree.items():\n",
    "        new_elements = []\n",
    "        nodes = node_path.split(\"::\")\n",
    "        parent_elements = []\n",
    "        for i in range(1, len(nodes) - 1):\n",
    "            [parent_element, *_] = chunk_tree[\"::\".join(nodes[:i+1])] or [None]\n",
    "            if parent_element:\n",
    "                parent_elements.append(parent_element)\n",
    "        node_elements = [*parent_elements, *node_elements]\n",
    "        chunk = {\"url\": nodes[-1], 'text': '\\n\\n'.join(map(lambda x: element2text(x), node_elements))}\n",
    "        chunks.append(chunk)\n",
    "    return chunks"
   ]
  },
  {
   "cell_type": "markdown",
   "id": "95ffc9e0-6148-4886-bd5d-b2ed43364364",
   "metadata": {},
   "source": [
    "Define a chunking model and add a Listener to listen to data and chunk webpages."
   ]
  },
  {
   "cell_type": "code",
   "execution_count": 8,
   "id": "606472b7-cda9-454e-9c9d-8ee5f122bade",
   "metadata": {},
   "outputs": [
    {
     "name": "stderr",
     "output_type": "stream",
     "text": [
      "1it [00:00, 747.25it/s]"
     ]
    },
    {
     "name": "stdout",
     "output_type": "stream",
     "text": [
      "\u001b[32m 2024-Feb-19 19:48:40.72\u001b[0m| \u001b[1mINFO    \u001b[0m | \u001b[36m183eefeaab2d\u001b[0m| \u001b[36mab6ab314-5767-4bfb-aac6-1a2084725da3\u001b[0m| \u001b[36msuperduperdb.components.model\u001b[0m:\u001b[36m477 \u001b[0m | \u001b[1mAdding 1 model outputs to `db`\u001b[0m\n"
     ]
    },
    {
     "name": "stderr",
     "output_type": "stream",
     "text": [
      "\n"
     ]
    },
    {
     "data": {
      "text/plain": [
       "([None],\n",
       " Listener(identifier='chunk/elements', key='elements', model=Model(identifier='chunk', encoder=None, output_schema=Schema(identifier='myschema', fields={'text': 'string', '_fold': FieldType(identifier='String')}), flatten=True, preprocess=None, postprocess=None, collate_fn=None, batch_predict=False, takes_context=False, metrics=(), model_update_kwargs={'document_embedded': False}, validation_sets=None, predict_X=None, predict_select=None, predict_max_chunk_size=None, predict_kwargs=None, object=<Artifact artifact=<function get_chunks at 0x292c0eb90> serializer=dill>, model_to_device_method=None, metric_values={}, predict_method=None, serializer='dill', device='cpu', preferred_devices=('cuda', 'mps', 'cpu'), training_configuration=None, train_X=None, train_y=None, train_select=None), select=<superduperdb.backends.mongodb.query.MongoCompoundSelect[\n",
       "     \u001b[92m\u001b[1mpages.find({'_id': \"{'$in': '[65d34017d9885df39a4b3843]'}\"}, {})\u001b[0m\n",
       " ] object at 0x2966423b0>, active=True, predict_kwargs={}))"
      ]
     },
     "execution_count": 8,
     "metadata": {},
     "output_type": "execute_result"
    }
   ],
   "source": [
    "from superduperdb import Model, Listener, Schema\n",
    "\n",
    "\n",
    "chunk_model = Model(\n",
    "    identifier='chunk',\n",
    "    object=get_chunks,\n",
    "    flatten=True,\n",
    "    model_update_kwargs={\"document_embedded\": False},\n",
    "    output_schema=Schema(identifier=\"myschema\", fields={\"text\": \"string\"}),\n",
    ")\n",
    "\n",
    "db.add(\n",
    "    Listener(\n",
    "        model=chunk_model,\n",
    "        select=Collection('pages').find(),\n",
    "        key=\"elements\",\n",
    "    )\n",
    ")"
   ]
  },
  {
   "cell_type": "markdown",
   "id": "4fe6130a-03e3-4788-9be9-014386ad7fb1",
   "metadata": {},
   "source": [
    "## Building Vector Search Feature Using OpenAIEmbedding Model"
   ]
  },
  {
   "cell_type": "code",
   "execution_count": 15,
   "id": "122cb103-30de-414e-b36f-b2a85fbcd1bf",
   "metadata": {},
   "outputs": [
    {
     "ename": "InvalidDocument",
     "evalue": "documents must have only string keys, key was $_outputs.elements.chunk.{version}",
     "output_type": "error",
     "traceback": [
      "\u001b[0;31m---------------------------------------------------------------------------\u001b[0m",
      "\u001b[0;31mInvalidDocument\u001b[0m                           Traceback (most recent call last)",
      "Cell \u001b[0;32mIn[15], line 42\u001b[0m\n\u001b[1;32m     34\u001b[0m \u001b[38;5;66;03m# Create an instance of the OpenAIEmbedding model with the specified identifier ('text-embedding-ada-002')\u001b[39;00m\n\u001b[1;32m     35\u001b[0m model \u001b[38;5;241m=\u001b[39m OpenAIEmbedding(\n\u001b[1;32m     36\u001b[0m     identifier\u001b[38;5;241m=\u001b[39m\u001b[38;5;124m'\u001b[39m\u001b[38;5;124mtext-embedding-ada-002\u001b[39m\u001b[38;5;124m'\u001b[39m,\n\u001b[1;32m     37\u001b[0m     model\u001b[38;5;241m=\u001b[39m\u001b[38;5;124m\"\u001b[39m\u001b[38;5;124mtext-embedding-ada-002\u001b[39m\u001b[38;5;124m\"\u001b[39m,\n\u001b[1;32m     38\u001b[0m     preprocess\u001b[38;5;241m=\u001b[39mArtifact(preprocess),\n\u001b[1;32m     39\u001b[0m )\n\u001b[0;32m---> 42\u001b[0m \u001b[43mdb\u001b[49m\u001b[38;5;241;43m.\u001b[39;49m\u001b[43madd\u001b[49m\u001b[43m(\u001b[49m\n\u001b[1;32m     43\u001b[0m \u001b[43m    \u001b[49m\u001b[43mVectorIndex\u001b[49m\u001b[43m(\u001b[49m\n\u001b[1;32m     44\u001b[0m \u001b[43m        \u001b[49m\u001b[43midentifier\u001b[49m\u001b[38;5;241;43m=\u001b[39;49m\u001b[38;5;124;43m'\u001b[39;49m\u001b[38;5;124;43mvector_index\u001b[39;49m\u001b[38;5;124;43m'\u001b[39;49m\u001b[43m,\u001b[49m\n\u001b[1;32m     45\u001b[0m \u001b[43m        \u001b[49m\u001b[43mindexing_listener\u001b[49m\u001b[38;5;241;43m=\u001b[39;49m\u001b[43mListener\u001b[49m\u001b[43m(\u001b[49m\n\u001b[1;32m     46\u001b[0m \u001b[43m            \u001b[49m\u001b[43mselect\u001b[49m\u001b[38;5;241;43m=\u001b[39;49m\u001b[43mCollection\u001b[49m\u001b[43m(\u001b[49m\u001b[38;5;124;43m'\u001b[39;49m\u001b[38;5;124;43mpages\u001b[39;49m\u001b[38;5;124;43m'\u001b[39;49m\u001b[43m)\u001b[49m\u001b[38;5;241;43m.\u001b[39;49m\u001b[43mfind\u001b[49m\u001b[43m(\u001b[49m\u001b[43m)\u001b[49m\u001b[38;5;241;43m.\u001b[39;49m\u001b[43moutputs\u001b[49m\u001b[43m(\u001b[49m\u001b[43melements\u001b[49m\u001b[38;5;241;43m=\u001b[39;49m\u001b[38;5;124;43m'\u001b[39;49m\u001b[38;5;124;43mchunk\u001b[39;49m\u001b[38;5;124;43m'\u001b[39;49m\u001b[43m)\u001b[49m\u001b[43m,\u001b[49m\n\u001b[1;32m     47\u001b[0m \u001b[43m            \u001b[49m\u001b[43mkey\u001b[49m\u001b[38;5;241;43m=\u001b[39;49m\u001b[38;5;124;43m'\u001b[39;49m\u001b[38;5;124;43m_outputs.elements.chunk\u001b[39;49m\u001b[38;5;124;43m'\u001b[39;49m\u001b[43m,\u001b[49m\u001b[43m  \u001b[49m\u001b[38;5;66;43;03m# Key for the documents\u001b[39;49;00m\n\u001b[1;32m     48\u001b[0m \u001b[43m            \u001b[49m\u001b[43mmodel\u001b[49m\u001b[38;5;241;43m=\u001b[39;49m\u001b[43mmodel\u001b[49m\u001b[43m,\u001b[49m\u001b[43m  \u001b[49m\u001b[38;5;66;43;03m# Specify the model for processing\u001b[39;49;00m\n\u001b[1;32m     49\u001b[0m \u001b[43m            \u001b[49m\u001b[43mpredict_kwargs\u001b[49m\u001b[38;5;241;43m=\u001b[39;49m\u001b[43m{\u001b[49m\u001b[38;5;124;43m\"\u001b[39;49m\u001b[38;5;124;43mmax_chunk_size\u001b[39;49m\u001b[38;5;124;43m\"\u001b[39;49m\u001b[43m:\u001b[49m\u001b[43m \u001b[49m\u001b[38;5;241;43m64\u001b[39;49m\u001b[43m}\u001b[49m\u001b[43m,\u001b[49m\n\u001b[1;32m     50\u001b[0m \u001b[43m        \u001b[49m\u001b[43m)\u001b[49m\u001b[43m,\u001b[49m\n\u001b[1;32m     51\u001b[0m \u001b[43m    \u001b[49m\u001b[43m)\u001b[49m\n\u001b[1;32m     52\u001b[0m \u001b[43m)\u001b[49m\n",
      "File \u001b[0;32m~/workspace/SuperDuperDB/poc-geti/env/lib/python3.10/site-packages/superduperdb/base/datalayer.py:546\u001b[0m, in \u001b[0;36mDatalayer.add\u001b[0;34m(self, object, dependencies)\u001b[0m\n\u001b[1;32m    538\u001b[0m     \u001b[38;5;28;01mreturn\u001b[39;00m \u001b[38;5;28mtype\u001b[39m(\u001b[38;5;28mobject\u001b[39m)(\n\u001b[1;32m    539\u001b[0m         \u001b[38;5;28mself\u001b[39m\u001b[38;5;241m.\u001b[39m_add(\n\u001b[1;32m    540\u001b[0m             \u001b[38;5;28mobject\u001b[39m\u001b[38;5;241m=\u001b[39mcomponent,\n\u001b[0;32m   (...)\u001b[0m\n\u001b[1;32m    543\u001b[0m         \u001b[38;5;28;01mfor\u001b[39;00m component \u001b[38;5;129;01min\u001b[39;00m \u001b[38;5;28mobject\u001b[39m\n\u001b[1;32m    544\u001b[0m     )\n\u001b[1;32m    545\u001b[0m \u001b[38;5;28;01melif\u001b[39;00m \u001b[38;5;28misinstance\u001b[39m(\u001b[38;5;28mobject\u001b[39m, Component):\n\u001b[0;32m--> 546\u001b[0m     \u001b[38;5;28;01mreturn\u001b[39;00m \u001b[38;5;28;43mself\u001b[39;49m\u001b[38;5;241;43m.\u001b[39;49m\u001b[43m_add\u001b[49m\u001b[43m(\u001b[49m\u001b[38;5;28;43mobject\u001b[39;49m\u001b[38;5;241;43m=\u001b[39;49m\u001b[38;5;28;43mobject\u001b[39;49m\u001b[43m,\u001b[49m\u001b[43m \u001b[49m\u001b[43mdependencies\u001b[49m\u001b[38;5;241;43m=\u001b[39;49m\u001b[43mdependencies\u001b[49m\u001b[43m)\u001b[49m, \u001b[38;5;28mobject\u001b[39m\n\u001b[1;32m    547\u001b[0m \u001b[38;5;28;01melse\u001b[39;00m:\n\u001b[1;32m    548\u001b[0m     \u001b[38;5;28;01mreturn\u001b[39;00m \u001b[38;5;28mself\u001b[39m\u001b[38;5;241m.\u001b[39m_add(superduper(\u001b[38;5;28mobject\u001b[39m)), \u001b[38;5;28mobject\u001b[39m\n",
      "File \u001b[0;32m~/workspace/SuperDuperDB/poc-geti/env/lib/python3.10/site-packages/superduperdb/base/datalayer.py:910\u001b[0m, in \u001b[0;36mDatalayer._add\u001b[0;34m(self, object, dependencies, serialized, parent)\u001b[0m\n\u001b[1;32m    905\u001b[0m     \u001b[38;5;28;01mexcept\u001b[39;00m \u001b[38;5;167;01mKeyError\u001b[39;00m:\n\u001b[1;32m    906\u001b[0m         \u001b[38;5;28;01mraise\u001b[39;00m exceptions\u001b[38;5;241m.\u001b[39mMetadataException(\n\u001b[1;32m    907\u001b[0m             \u001b[38;5;124m'\u001b[39m\u001b[38;5;124m`dict` or `version` not found in serialized dict.\u001b[39m\u001b[38;5;124m'\u001b[39m\n\u001b[1;32m    908\u001b[0m         )\n\u001b[0;32m--> 910\u001b[0m jobs\u001b[38;5;241m.\u001b[39mextend(\u001b[38;5;28;43mself\u001b[39;49m\u001b[38;5;241;43m.\u001b[39;49m\u001b[43m_create_children\u001b[49m\u001b[43m(\u001b[49m\u001b[38;5;28;43mobject\u001b[39;49m\u001b[43m,\u001b[49m\u001b[43m \u001b[49m\u001b[43mserialized\u001b[49m\u001b[43m)\u001b[49m)\n\u001b[1;32m    911\u001b[0m \u001b[38;5;28mself\u001b[39m\u001b[38;5;241m.\u001b[39mmetadata\u001b[38;5;241m.\u001b[39mcreate_component(serialized)\n\u001b[1;32m    912\u001b[0m \u001b[38;5;28;01mif\u001b[39;00m parent \u001b[38;5;129;01mis\u001b[39;00m \u001b[38;5;129;01mnot\u001b[39;00m \u001b[38;5;28;01mNone\u001b[39;00m:\n",
      "File \u001b[0;32m~/workspace/SuperDuperDB/poc-geti/env/lib/python3.10/site-packages/superduperdb/base/datalayer.py:936\u001b[0m, in \u001b[0;36mDatalayer._create_children\u001b[0;34m(self, component, serialized)\u001b[0m\n\u001b[1;32m    934\u001b[0m     serialized[\u001b[38;5;124m'\u001b[39m\u001b[38;5;124mdict\u001b[39m\u001b[38;5;124m'\u001b[39m][k] \u001b[38;5;241m=\u001b[39m serialized_dict\n\u001b[1;32m    935\u001b[0m \u001b[38;5;28;01melif\u001b[39;00m \u001b[38;5;28misinstance\u001b[39m(child, Component):\n\u001b[0;32m--> 936\u001b[0m     sub_jobs \u001b[38;5;241m=\u001b[39m \u001b[38;5;28;43mself\u001b[39;49m\u001b[38;5;241;43m.\u001b[39;49m\u001b[43m_add\u001b[49m\u001b[43m(\u001b[49m\n\u001b[1;32m    937\u001b[0m \u001b[43m        \u001b[49m\u001b[43mchild\u001b[49m\u001b[43m,\u001b[49m\n\u001b[1;32m    938\u001b[0m \u001b[43m        \u001b[49m\u001b[43mserialized\u001b[49m\u001b[38;5;241;43m=\u001b[39;49m\u001b[43mserialized\u001b[49m\u001b[43m[\u001b[49m\u001b[38;5;124;43m'\u001b[39;49m\u001b[38;5;124;43mdict\u001b[39;49m\u001b[38;5;124;43m'\u001b[39;49m\u001b[43m]\u001b[49m\u001b[43m[\u001b[49m\u001b[43mk\u001b[49m\u001b[43m]\u001b[49m\u001b[43m,\u001b[49m\n\u001b[1;32m    939\u001b[0m \u001b[43m        \u001b[49m\u001b[43mparent\u001b[49m\u001b[38;5;241;43m=\u001b[39;49m\u001b[43mcomponent\u001b[49m\u001b[38;5;241;43m.\u001b[39;49m\u001b[43munique_id\u001b[49m\u001b[43m,\u001b[49m\n\u001b[1;32m    940\u001b[0m \u001b[43m    \u001b[49m\u001b[43m)\u001b[49m\n\u001b[1;32m    941\u001b[0m     jobs\u001b[38;5;241m.\u001b[39mextend(sub_jobs)\n\u001b[1;32m    942\u001b[0m     serialized_dict \u001b[38;5;241m=\u001b[39m {\n\u001b[1;32m    943\u001b[0m         \u001b[38;5;124m'\u001b[39m\u001b[38;5;124mtype_id\u001b[39m\u001b[38;5;124m'\u001b[39m: child\u001b[38;5;241m.\u001b[39mtype_id,\n\u001b[1;32m    944\u001b[0m         \u001b[38;5;124m'\u001b[39m\u001b[38;5;124midentifier\u001b[39m\u001b[38;5;124m'\u001b[39m: child\u001b[38;5;241m.\u001b[39midentifier,\n\u001b[1;32m    945\u001b[0m         \u001b[38;5;124m'\u001b[39m\u001b[38;5;124mversion\u001b[39m\u001b[38;5;124m'\u001b[39m: child\u001b[38;5;241m.\u001b[39mversion,\n\u001b[1;32m    946\u001b[0m     }\n",
      "File \u001b[0;32m~/workspace/SuperDuperDB/poc-geti/env/lib/python3.10/site-packages/superduperdb/base/datalayer.py:911\u001b[0m, in \u001b[0;36mDatalayer._add\u001b[0;34m(self, object, dependencies, serialized, parent)\u001b[0m\n\u001b[1;32m    906\u001b[0m         \u001b[38;5;28;01mraise\u001b[39;00m exceptions\u001b[38;5;241m.\u001b[39mMetadataException(\n\u001b[1;32m    907\u001b[0m             \u001b[38;5;124m'\u001b[39m\u001b[38;5;124m`dict` or `version` not found in serialized dict.\u001b[39m\u001b[38;5;124m'\u001b[39m\n\u001b[1;32m    908\u001b[0m         )\n\u001b[1;32m    910\u001b[0m jobs\u001b[38;5;241m.\u001b[39mextend(\u001b[38;5;28mself\u001b[39m\u001b[38;5;241m.\u001b[39m_create_children(\u001b[38;5;28mobject\u001b[39m, serialized))\n\u001b[0;32m--> 911\u001b[0m \u001b[38;5;28;43mself\u001b[39;49m\u001b[38;5;241;43m.\u001b[39;49m\u001b[43mmetadata\u001b[49m\u001b[38;5;241;43m.\u001b[39;49m\u001b[43mcreate_component\u001b[49m\u001b[43m(\u001b[49m\u001b[43mserialized\u001b[49m\u001b[43m)\u001b[49m\n\u001b[1;32m    912\u001b[0m \u001b[38;5;28;01mif\u001b[39;00m parent \u001b[38;5;129;01mis\u001b[39;00m \u001b[38;5;129;01mnot\u001b[39;00m \u001b[38;5;28;01mNone\u001b[39;00m:\n\u001b[1;32m    913\u001b[0m     \u001b[38;5;28mself\u001b[39m\u001b[38;5;241m.\u001b[39mmetadata\u001b[38;5;241m.\u001b[39mcreate_parent_child(parent, \u001b[38;5;28mobject\u001b[39m\u001b[38;5;241m.\u001b[39munique_id)\n",
      "File \u001b[0;32m~/workspace/SuperDuperDB/poc-geti/env/lib/python3.10/site-packages/superduperdb/backends/mongodb/metadata.py:63\u001b[0m, in \u001b[0;36mMongoMetaDataStore.create_component\u001b[0;34m(self, info)\u001b[0m\n\u001b[1;32m     61\u001b[0m \u001b[38;5;28;01mif\u001b[39;00m \u001b[38;5;124m'\u001b[39m\u001b[38;5;124mhidden\u001b[39m\u001b[38;5;124m'\u001b[39m \u001b[38;5;129;01mnot\u001b[39;00m \u001b[38;5;129;01min\u001b[39;00m info:\n\u001b[1;32m     62\u001b[0m     info[\u001b[38;5;124m'\u001b[39m\u001b[38;5;124mhidden\u001b[39m\u001b[38;5;124m'\u001b[39m] \u001b[38;5;241m=\u001b[39m \u001b[38;5;28;01mFalse\u001b[39;00m\n\u001b[0;32m---> 63\u001b[0m \u001b[38;5;28;01mreturn\u001b[39;00m \u001b[38;5;28;43mself\u001b[39;49m\u001b[38;5;241;43m.\u001b[39;49m\u001b[43mcomponent_collection\u001b[49m\u001b[38;5;241;43m.\u001b[39;49m\u001b[43minsert_one\u001b[49m\u001b[43m(\u001b[49m\u001b[43minfo\u001b[49m\u001b[43m)\u001b[49m\n",
      "File \u001b[0;32m~/workspace/SuperDuperDB/poc-geti/env/lib/python3.10/site-packages/pymongo/collection.py:669\u001b[0m, in \u001b[0;36mCollection.insert_one\u001b[0;34m(self, document, bypass_document_validation, session, comment)\u001b[0m\n\u001b[1;32m    665\u001b[0m     document[\u001b[38;5;124m\"\u001b[39m\u001b[38;5;124m_id\u001b[39m\u001b[38;5;124m\"\u001b[39m] \u001b[38;5;241m=\u001b[39m ObjectId()  \u001b[38;5;66;03m# type: ignore[index]\u001b[39;00m\n\u001b[1;32m    667\u001b[0m write_concern \u001b[38;5;241m=\u001b[39m \u001b[38;5;28mself\u001b[39m\u001b[38;5;241m.\u001b[39m_write_concern_for(session)\n\u001b[1;32m    668\u001b[0m \u001b[38;5;28;01mreturn\u001b[39;00m InsertOneResult(\n\u001b[0;32m--> 669\u001b[0m     \u001b[38;5;28;43mself\u001b[39;49m\u001b[38;5;241;43m.\u001b[39;49m\u001b[43m_insert_one\u001b[49m\u001b[43m(\u001b[49m\n\u001b[1;32m    670\u001b[0m \u001b[43m        \u001b[49m\u001b[43mdocument\u001b[49m\u001b[43m,\u001b[49m\n\u001b[1;32m    671\u001b[0m \u001b[43m        \u001b[49m\u001b[43mordered\u001b[49m\u001b[38;5;241;43m=\u001b[39;49m\u001b[38;5;28;43;01mTrue\u001b[39;49;00m\u001b[43m,\u001b[49m\n\u001b[1;32m    672\u001b[0m \u001b[43m        \u001b[49m\u001b[43mwrite_concern\u001b[49m\u001b[38;5;241;43m=\u001b[39;49m\u001b[43mwrite_concern\u001b[49m\u001b[43m,\u001b[49m\n\u001b[1;32m    673\u001b[0m \u001b[43m        \u001b[49m\u001b[43mop_id\u001b[49m\u001b[38;5;241;43m=\u001b[39;49m\u001b[38;5;28;43;01mNone\u001b[39;49;00m\u001b[43m,\u001b[49m\n\u001b[1;32m    674\u001b[0m \u001b[43m        \u001b[49m\u001b[43mbypass_doc_val\u001b[49m\u001b[38;5;241;43m=\u001b[39;49m\u001b[43mbypass_document_validation\u001b[49m\u001b[43m,\u001b[49m\n\u001b[1;32m    675\u001b[0m \u001b[43m        \u001b[49m\u001b[43msession\u001b[49m\u001b[38;5;241;43m=\u001b[39;49m\u001b[43msession\u001b[49m\u001b[43m,\u001b[49m\n\u001b[1;32m    676\u001b[0m \u001b[43m        \u001b[49m\u001b[43mcomment\u001b[49m\u001b[38;5;241;43m=\u001b[39;49m\u001b[43mcomment\u001b[49m\u001b[43m,\u001b[49m\n\u001b[1;32m    677\u001b[0m \u001b[43m    \u001b[49m\u001b[43m)\u001b[49m,\n\u001b[1;32m    678\u001b[0m     write_concern\u001b[38;5;241m.\u001b[39macknowledged,\n\u001b[1;32m    679\u001b[0m )\n",
      "File \u001b[0;32m~/workspace/SuperDuperDB/poc-geti/env/lib/python3.10/site-packages/pymongo/collection.py:609\u001b[0m, in \u001b[0;36mCollection._insert_one\u001b[0;34m(self, doc, ordered, write_concern, op_id, bypass_doc_val, session, comment)\u001b[0m\n\u001b[1;32m    597\u001b[0m     result \u001b[38;5;241m=\u001b[39m conn\u001b[38;5;241m.\u001b[39mcommand(\n\u001b[1;32m    598\u001b[0m         \u001b[38;5;28mself\u001b[39m\u001b[38;5;241m.\u001b[39m__database\u001b[38;5;241m.\u001b[39mname,\n\u001b[1;32m    599\u001b[0m         command,\n\u001b[0;32m   (...)\u001b[0m\n\u001b[1;32m    604\u001b[0m         retryable_write\u001b[38;5;241m=\u001b[39mretryable_write,\n\u001b[1;32m    605\u001b[0m     )\n\u001b[1;32m    607\u001b[0m     _check_write_command_response(result)\n\u001b[0;32m--> 609\u001b[0m \u001b[38;5;28;43mself\u001b[39;49m\u001b[38;5;241;43m.\u001b[39;49m\u001b[43m__database\u001b[49m\u001b[38;5;241;43m.\u001b[39;49m\u001b[43mclient\u001b[49m\u001b[38;5;241;43m.\u001b[39;49m\u001b[43m_retryable_write\u001b[49m\u001b[43m(\u001b[49m\u001b[43macknowledged\u001b[49m\u001b[43m,\u001b[49m\u001b[43m \u001b[49m\u001b[43m_insert_command\u001b[49m\u001b[43m,\u001b[49m\u001b[43m \u001b[49m\u001b[43msession\u001b[49m\u001b[43m)\u001b[49m\n\u001b[1;32m    611\u001b[0m \u001b[38;5;28;01mif\u001b[39;00m \u001b[38;5;129;01mnot\u001b[39;00m \u001b[38;5;28misinstance\u001b[39m(doc, RawBSONDocument):\n\u001b[1;32m    612\u001b[0m     \u001b[38;5;28;01mreturn\u001b[39;00m doc\u001b[38;5;241m.\u001b[39mget(\u001b[38;5;124m\"\u001b[39m\u001b[38;5;124m_id\u001b[39m\u001b[38;5;124m\"\u001b[39m)\n",
      "File \u001b[0;32m~/workspace/SuperDuperDB/poc-geti/env/lib/python3.10/site-packages/pymongo/mongo_client.py:1523\u001b[0m, in \u001b[0;36mMongoClient._retryable_write\u001b[0;34m(self, retryable, func, session, bulk)\u001b[0m\n\u001b[1;32m   1509\u001b[0m \u001b[38;5;250m\u001b[39m\u001b[38;5;124;03m\"\"\"Execute an operation with consecutive retries if possible\u001b[39;00m\n\u001b[1;32m   1510\u001b[0m \n\u001b[1;32m   1511\u001b[0m \u001b[38;5;124;03mReturns func()'s return value on success. On error retries the same\u001b[39;00m\n\u001b[0;32m   (...)\u001b[0m\n\u001b[1;32m   1520\u001b[0m \u001b[38;5;124;03m  - `bulk`: bulk abstraction to execute operations in bulk, defaults to None\u001b[39;00m\n\u001b[1;32m   1521\u001b[0m \u001b[38;5;124;03m\"\"\"\u001b[39;00m\n\u001b[1;32m   1522\u001b[0m \u001b[38;5;28;01mwith\u001b[39;00m \u001b[38;5;28mself\u001b[39m\u001b[38;5;241m.\u001b[39m_tmp_session(session) \u001b[38;5;28;01mas\u001b[39;00m s:\n\u001b[0;32m-> 1523\u001b[0m     \u001b[38;5;28;01mreturn\u001b[39;00m \u001b[38;5;28;43mself\u001b[39;49m\u001b[38;5;241;43m.\u001b[39;49m\u001b[43m_retry_with_session\u001b[49m\u001b[43m(\u001b[49m\u001b[43mretryable\u001b[49m\u001b[43m,\u001b[49m\u001b[43m \u001b[49m\u001b[43mfunc\u001b[49m\u001b[43m,\u001b[49m\u001b[43m \u001b[49m\u001b[43ms\u001b[49m\u001b[43m,\u001b[49m\u001b[43m \u001b[49m\u001b[43mbulk\u001b[49m\u001b[43m)\u001b[49m\n",
      "File \u001b[0;32m~/workspace/SuperDuperDB/poc-geti/env/lib/python3.10/site-packages/pymongo/mongo_client.py:1421\u001b[0m, in \u001b[0;36mMongoClient._retry_with_session\u001b[0;34m(self, retryable, func, session, bulk)\u001b[0m\n\u001b[1;32m   1416\u001b[0m \u001b[38;5;66;03m# Ensure that the options supports retry_writes and there is a valid session not in\u001b[39;00m\n\u001b[1;32m   1417\u001b[0m \u001b[38;5;66;03m# transaction, otherwise, we will not support retry behavior for this txn.\u001b[39;00m\n\u001b[1;32m   1418\u001b[0m retryable \u001b[38;5;241m=\u001b[39m \u001b[38;5;28mbool\u001b[39m(\n\u001b[1;32m   1419\u001b[0m     retryable \u001b[38;5;129;01mand\u001b[39;00m \u001b[38;5;28mself\u001b[39m\u001b[38;5;241m.\u001b[39moptions\u001b[38;5;241m.\u001b[39mretry_writes \u001b[38;5;129;01mand\u001b[39;00m session \u001b[38;5;129;01mand\u001b[39;00m \u001b[38;5;129;01mnot\u001b[39;00m session\u001b[38;5;241m.\u001b[39min_transaction\n\u001b[1;32m   1420\u001b[0m )\n\u001b[0;32m-> 1421\u001b[0m \u001b[38;5;28;01mreturn\u001b[39;00m \u001b[38;5;28;43mself\u001b[39;49m\u001b[38;5;241;43m.\u001b[39;49m\u001b[43m_retry_internal\u001b[49m\u001b[43m(\u001b[49m\n\u001b[1;32m   1422\u001b[0m \u001b[43m    \u001b[49m\u001b[43mfunc\u001b[49m\u001b[38;5;241;43m=\u001b[39;49m\u001b[43mfunc\u001b[49m\u001b[43m,\u001b[49m\n\u001b[1;32m   1423\u001b[0m \u001b[43m    \u001b[49m\u001b[43msession\u001b[49m\u001b[38;5;241;43m=\u001b[39;49m\u001b[43msession\u001b[49m\u001b[43m,\u001b[49m\n\u001b[1;32m   1424\u001b[0m \u001b[43m    \u001b[49m\u001b[43mbulk\u001b[49m\u001b[38;5;241;43m=\u001b[39;49m\u001b[43mbulk\u001b[49m\u001b[43m,\u001b[49m\n\u001b[1;32m   1425\u001b[0m \u001b[43m    \u001b[49m\u001b[43mretryable\u001b[49m\u001b[38;5;241;43m=\u001b[39;49m\u001b[43mretryable\u001b[49m\u001b[43m,\u001b[49m\n\u001b[1;32m   1426\u001b[0m \u001b[43m\u001b[49m\u001b[43m)\u001b[49m\n",
      "File \u001b[0;32m~/workspace/SuperDuperDB/poc-geti/env/lib/python3.10/site-packages/pymongo/_csot.py:107\u001b[0m, in \u001b[0;36mapply.<locals>.csot_wrapper\u001b[0;34m(self, *args, **kwargs)\u001b[0m\n\u001b[1;32m    105\u001b[0m         \u001b[38;5;28;01mwith\u001b[39;00m _TimeoutContext(timeout):\n\u001b[1;32m    106\u001b[0m             \u001b[38;5;28;01mreturn\u001b[39;00m func(\u001b[38;5;28mself\u001b[39m, \u001b[38;5;241m*\u001b[39margs, \u001b[38;5;241m*\u001b[39m\u001b[38;5;241m*\u001b[39mkwargs)\n\u001b[0;32m--> 107\u001b[0m \u001b[38;5;28;01mreturn\u001b[39;00m \u001b[43mfunc\u001b[49m\u001b[43m(\u001b[49m\u001b[38;5;28;43mself\u001b[39;49m\u001b[43m,\u001b[49m\u001b[43m \u001b[49m\u001b[38;5;241;43m*\u001b[39;49m\u001b[43margs\u001b[49m\u001b[43m,\u001b[49m\u001b[43m \u001b[49m\u001b[38;5;241;43m*\u001b[39;49m\u001b[38;5;241;43m*\u001b[39;49m\u001b[43mkwargs\u001b[49m\u001b[43m)\u001b[49m\n",
      "File \u001b[0;32m~/workspace/SuperDuperDB/poc-geti/env/lib/python3.10/site-packages/pymongo/mongo_client.py:1462\u001b[0m, in \u001b[0;36mMongoClient._retry_internal\u001b[0;34m(self, func, session, bulk, is_read, address, read_pref, retryable)\u001b[0m\n\u001b[1;32m   1428\u001b[0m \u001b[38;5;129m@_csot\u001b[39m\u001b[38;5;241m.\u001b[39mapply\n\u001b[1;32m   1429\u001b[0m \u001b[38;5;28;01mdef\u001b[39;00m \u001b[38;5;21m_retry_internal\u001b[39m(\n\u001b[1;32m   1430\u001b[0m     \u001b[38;5;28mself\u001b[39m,\n\u001b[0;32m   (...)\u001b[0m\n\u001b[1;32m   1437\u001b[0m     retryable: \u001b[38;5;28mbool\u001b[39m \u001b[38;5;241m=\u001b[39m \u001b[38;5;28;01mFalse\u001b[39;00m,\n\u001b[1;32m   1438\u001b[0m ) \u001b[38;5;241m-\u001b[39m\u001b[38;5;241m>\u001b[39m T:\n\u001b[1;32m   1439\u001b[0m \u001b[38;5;250m    \u001b[39m\u001b[38;5;124;03m\"\"\"Internal retryable helper for all client transactions.\u001b[39;00m\n\u001b[1;32m   1440\u001b[0m \n\u001b[1;32m   1441\u001b[0m \u001b[38;5;124;03m    :Parameters:\u001b[39;00m\n\u001b[0;32m   (...)\u001b[0m\n\u001b[1;32m   1451\u001b[0m \u001b[38;5;124;03m      Output of the calling func()\u001b[39;00m\n\u001b[1;32m   1452\u001b[0m \u001b[38;5;124;03m    \"\"\"\u001b[39;00m\n\u001b[1;32m   1453\u001b[0m     \u001b[38;5;28;01mreturn\u001b[39;00m \u001b[43m_ClientConnectionRetryable\u001b[49m\u001b[43m(\u001b[49m\n\u001b[1;32m   1454\u001b[0m \u001b[43m        \u001b[49m\u001b[43mmongo_client\u001b[49m\u001b[38;5;241;43m=\u001b[39;49m\u001b[38;5;28;43mself\u001b[39;49m\u001b[43m,\u001b[49m\n\u001b[1;32m   1455\u001b[0m \u001b[43m        \u001b[49m\u001b[43mfunc\u001b[49m\u001b[38;5;241;43m=\u001b[39;49m\u001b[43mfunc\u001b[49m\u001b[43m,\u001b[49m\n\u001b[1;32m   1456\u001b[0m \u001b[43m        \u001b[49m\u001b[43mbulk\u001b[49m\u001b[38;5;241;43m=\u001b[39;49m\u001b[43mbulk\u001b[49m\u001b[43m,\u001b[49m\n\u001b[1;32m   1457\u001b[0m \u001b[43m        \u001b[49m\u001b[43mis_read\u001b[49m\u001b[38;5;241;43m=\u001b[39;49m\u001b[43mis_read\u001b[49m\u001b[43m,\u001b[49m\n\u001b[1;32m   1458\u001b[0m \u001b[43m        \u001b[49m\u001b[43msession\u001b[49m\u001b[38;5;241;43m=\u001b[39;49m\u001b[43msession\u001b[49m\u001b[43m,\u001b[49m\n\u001b[1;32m   1459\u001b[0m \u001b[43m        \u001b[49m\u001b[43mread_pref\u001b[49m\u001b[38;5;241;43m=\u001b[39;49m\u001b[43mread_pref\u001b[49m\u001b[43m,\u001b[49m\n\u001b[1;32m   1460\u001b[0m \u001b[43m        \u001b[49m\u001b[43maddress\u001b[49m\u001b[38;5;241;43m=\u001b[39;49m\u001b[43maddress\u001b[49m\u001b[43m,\u001b[49m\n\u001b[1;32m   1461\u001b[0m \u001b[43m        \u001b[49m\u001b[43mretryable\u001b[49m\u001b[38;5;241;43m=\u001b[39;49m\u001b[43mretryable\u001b[49m\u001b[43m,\u001b[49m\n\u001b[0;32m-> 1462\u001b[0m \u001b[43m    \u001b[49m\u001b[43m)\u001b[49m\u001b[38;5;241;43m.\u001b[39;49m\u001b[43mrun\u001b[49m\u001b[43m(\u001b[49m\u001b[43m)\u001b[49m\n",
      "File \u001b[0;32m~/workspace/SuperDuperDB/poc-geti/env/lib/python3.10/site-packages/pymongo/mongo_client.py:2315\u001b[0m, in \u001b[0;36m_ClientConnectionRetryable.run\u001b[0;34m(self)\u001b[0m\n\u001b[1;32m   2313\u001b[0m \u001b[38;5;28mself\u001b[39m\u001b[38;5;241m.\u001b[39m_check_last_error(check_csot\u001b[38;5;241m=\u001b[39m\u001b[38;5;28;01mTrue\u001b[39;00m)\n\u001b[1;32m   2314\u001b[0m \u001b[38;5;28;01mtry\u001b[39;00m:\n\u001b[0;32m-> 2315\u001b[0m     \u001b[38;5;28;01mreturn\u001b[39;00m \u001b[38;5;28mself\u001b[39m\u001b[38;5;241m.\u001b[39m_read() \u001b[38;5;28;01mif\u001b[39;00m \u001b[38;5;28mself\u001b[39m\u001b[38;5;241m.\u001b[39m_is_read \u001b[38;5;28;01melse\u001b[39;00m \u001b[38;5;28;43mself\u001b[39;49m\u001b[38;5;241;43m.\u001b[39;49m\u001b[43m_write\u001b[49m\u001b[43m(\u001b[49m\u001b[43m)\u001b[49m\n\u001b[1;32m   2316\u001b[0m \u001b[38;5;28;01mexcept\u001b[39;00m ServerSelectionTimeoutError:\n\u001b[1;32m   2317\u001b[0m     \u001b[38;5;66;03m# The application may think the write was never attempted\u001b[39;00m\n\u001b[1;32m   2318\u001b[0m     \u001b[38;5;66;03m# if we raise ServerSelectionTimeoutError on the retry\u001b[39;00m\n\u001b[1;32m   2319\u001b[0m     \u001b[38;5;66;03m# attempt. Raise the original exception instead.\u001b[39;00m\n\u001b[1;32m   2320\u001b[0m     \u001b[38;5;28mself\u001b[39m\u001b[38;5;241m.\u001b[39m_check_last_error()\n",
      "File \u001b[0;32m~/workspace/SuperDuperDB/poc-geti/env/lib/python3.10/site-packages/pymongo/mongo_client.py:2423\u001b[0m, in \u001b[0;36m_ClientConnectionRetryable._write\u001b[0;34m(self)\u001b[0m\n\u001b[1;32m   2421\u001b[0m             \u001b[38;5;28mself\u001b[39m\u001b[38;5;241m.\u001b[39m_check_last_error()\n\u001b[1;32m   2422\u001b[0m             \u001b[38;5;28mself\u001b[39m\u001b[38;5;241m.\u001b[39m_retryable \u001b[38;5;241m=\u001b[39m \u001b[38;5;28;01mFalse\u001b[39;00m\n\u001b[0;32m-> 2423\u001b[0m         \u001b[38;5;28;01mreturn\u001b[39;00m \u001b[38;5;28;43mself\u001b[39;49m\u001b[38;5;241;43m.\u001b[39;49m\u001b[43m_func\u001b[49m\u001b[43m(\u001b[49m\u001b[38;5;28;43mself\u001b[39;49m\u001b[38;5;241;43m.\u001b[39;49m\u001b[43m_session\u001b[49m\u001b[43m,\u001b[49m\u001b[43m \u001b[49m\u001b[43mconn\u001b[49m\u001b[43m,\u001b[49m\u001b[43m \u001b[49m\u001b[38;5;28;43mself\u001b[39;49m\u001b[38;5;241;43m.\u001b[39;49m\u001b[43m_retryable\u001b[49m\u001b[43m)\u001b[49m  \u001b[38;5;66;03m# type: ignore\u001b[39;00m\n\u001b[1;32m   2424\u001b[0m \u001b[38;5;28;01mexcept\u001b[39;00m PyMongoError \u001b[38;5;28;01mas\u001b[39;00m exc:\n\u001b[1;32m   2425\u001b[0m     \u001b[38;5;28;01mif\u001b[39;00m \u001b[38;5;129;01mnot\u001b[39;00m \u001b[38;5;28mself\u001b[39m\u001b[38;5;241m.\u001b[39m_retryable:\n",
      "File \u001b[0;32m~/workspace/SuperDuperDB/poc-geti/env/lib/python3.10/site-packages/pymongo/collection.py:597\u001b[0m, in \u001b[0;36mCollection._insert_one.<locals>._insert_command\u001b[0;34m(session, conn, retryable_write)\u001b[0m\n\u001b[1;32m    594\u001b[0m \u001b[38;5;28;01mif\u001b[39;00m bypass_doc_val:\n\u001b[1;32m    595\u001b[0m     command[\u001b[38;5;124m\"\u001b[39m\u001b[38;5;124mbypassDocumentValidation\u001b[39m\u001b[38;5;124m\"\u001b[39m] \u001b[38;5;241m=\u001b[39m \u001b[38;5;28;01mTrue\u001b[39;00m\n\u001b[0;32m--> 597\u001b[0m result \u001b[38;5;241m=\u001b[39m \u001b[43mconn\u001b[49m\u001b[38;5;241;43m.\u001b[39;49m\u001b[43mcommand\u001b[49m\u001b[43m(\u001b[49m\n\u001b[1;32m    598\u001b[0m \u001b[43m    \u001b[49m\u001b[38;5;28;43mself\u001b[39;49m\u001b[38;5;241;43m.\u001b[39;49m\u001b[43m__database\u001b[49m\u001b[38;5;241;43m.\u001b[39;49m\u001b[43mname\u001b[49m\u001b[43m,\u001b[49m\n\u001b[1;32m    599\u001b[0m \u001b[43m    \u001b[49m\u001b[43mcommand\u001b[49m\u001b[43m,\u001b[49m\n\u001b[1;32m    600\u001b[0m \u001b[43m    \u001b[49m\u001b[43mwrite_concern\u001b[49m\u001b[38;5;241;43m=\u001b[39;49m\u001b[43mwrite_concern\u001b[49m\u001b[43m,\u001b[49m\n\u001b[1;32m    601\u001b[0m \u001b[43m    \u001b[49m\u001b[43mcodec_options\u001b[49m\u001b[38;5;241;43m=\u001b[39;49m\u001b[38;5;28;43mself\u001b[39;49m\u001b[38;5;241;43m.\u001b[39;49m\u001b[43m__write_response_codec_options\u001b[49m\u001b[43m,\u001b[49m\n\u001b[1;32m    602\u001b[0m \u001b[43m    \u001b[49m\u001b[43msession\u001b[49m\u001b[38;5;241;43m=\u001b[39;49m\u001b[43msession\u001b[49m\u001b[43m,\u001b[49m\n\u001b[1;32m    603\u001b[0m \u001b[43m    \u001b[49m\u001b[43mclient\u001b[49m\u001b[38;5;241;43m=\u001b[39;49m\u001b[38;5;28;43mself\u001b[39;49m\u001b[38;5;241;43m.\u001b[39;49m\u001b[43m__database\u001b[49m\u001b[38;5;241;43m.\u001b[39;49m\u001b[43mclient\u001b[49m\u001b[43m,\u001b[49m\n\u001b[1;32m    604\u001b[0m \u001b[43m    \u001b[49m\u001b[43mretryable_write\u001b[49m\u001b[38;5;241;43m=\u001b[39;49m\u001b[43mretryable_write\u001b[49m\u001b[43m,\u001b[49m\n\u001b[1;32m    605\u001b[0m \u001b[43m\u001b[49m\u001b[43m)\u001b[49m\n\u001b[1;32m    607\u001b[0m _check_write_command_response(result)\n",
      "File \u001b[0;32m~/workspace/SuperDuperDB/poc-geti/env/lib/python3.10/site-packages/pymongo/helpers.py:322\u001b[0m, in \u001b[0;36m_handle_reauth.<locals>.inner\u001b[0;34m(*args, **kwargs)\u001b[0m\n\u001b[1;32m    319\u001b[0m \u001b[38;5;28;01mfrom\u001b[39;00m \u001b[38;5;21;01mpymongo\u001b[39;00m\u001b[38;5;21;01m.\u001b[39;00m\u001b[38;5;21;01mpool\u001b[39;00m \u001b[38;5;28;01mimport\u001b[39;00m Connection\n\u001b[1;32m    321\u001b[0m \u001b[38;5;28;01mtry\u001b[39;00m:\n\u001b[0;32m--> 322\u001b[0m     \u001b[38;5;28;01mreturn\u001b[39;00m \u001b[43mfunc\u001b[49m\u001b[43m(\u001b[49m\u001b[38;5;241;43m*\u001b[39;49m\u001b[43margs\u001b[49m\u001b[43m,\u001b[49m\u001b[43m \u001b[49m\u001b[38;5;241;43m*\u001b[39;49m\u001b[38;5;241;43m*\u001b[39;49m\u001b[43mkwargs\u001b[49m\u001b[43m)\u001b[49m\n\u001b[1;32m    323\u001b[0m \u001b[38;5;28;01mexcept\u001b[39;00m OperationFailure \u001b[38;5;28;01mas\u001b[39;00m exc:\n\u001b[1;32m    324\u001b[0m     \u001b[38;5;28;01mif\u001b[39;00m no_reauth:\n",
      "File \u001b[0;32m~/workspace/SuperDuperDB/poc-geti/env/lib/python3.10/site-packages/pymongo/pool.py:996\u001b[0m, in \u001b[0;36mConnection.command\u001b[0;34m(self, dbname, spec, read_preference, codec_options, check, allowable_errors, read_concern, write_concern, parse_write_concern_error, collation, session, client, retryable_write, publish_events, user_fields, exhaust_allowed)\u001b[0m\n\u001b[1;32m    994\u001b[0m \u001b[38;5;66;03m# Catch socket.error, KeyboardInterrupt, etc. and close ourselves.\u001b[39;00m\n\u001b[1;32m    995\u001b[0m \u001b[38;5;28;01mexcept\u001b[39;00m \u001b[38;5;167;01mBaseException\u001b[39;00m \u001b[38;5;28;01mas\u001b[39;00m error:\n\u001b[0;32m--> 996\u001b[0m     \u001b[38;5;28;43mself\u001b[39;49m\u001b[38;5;241;43m.\u001b[39;49m\u001b[43m_raise_connection_failure\u001b[49m\u001b[43m(\u001b[49m\u001b[43merror\u001b[49m\u001b[43m)\u001b[49m\n",
      "File \u001b[0;32m~/workspace/SuperDuperDB/poc-geti/env/lib/python3.10/site-packages/pymongo/pool.py:968\u001b[0m, in \u001b[0;36mConnection.command\u001b[0;34m(self, dbname, spec, read_preference, codec_options, check, allowable_errors, read_concern, write_concern, parse_write_concern_error, collation, session, client, retryable_write, publish_events, user_fields, exhaust_allowed)\u001b[0m\n\u001b[1;32m    966\u001b[0m     \u001b[38;5;28mself\u001b[39m\u001b[38;5;241m.\u001b[39m_raise_if_not_writable(unacknowledged)\n\u001b[1;32m    967\u001b[0m \u001b[38;5;28;01mtry\u001b[39;00m:\n\u001b[0;32m--> 968\u001b[0m     \u001b[38;5;28;01mreturn\u001b[39;00m \u001b[43mcommand\u001b[49m\u001b[43m(\u001b[49m\n\u001b[1;32m    969\u001b[0m \u001b[43m        \u001b[49m\u001b[38;5;28;43mself\u001b[39;49m\u001b[43m,\u001b[49m\n\u001b[1;32m    970\u001b[0m \u001b[43m        \u001b[49m\u001b[43mdbname\u001b[49m\u001b[43m,\u001b[49m\n\u001b[1;32m    971\u001b[0m \u001b[43m        \u001b[49m\u001b[43mspec\u001b[49m\u001b[43m,\u001b[49m\n\u001b[1;32m    972\u001b[0m \u001b[43m        \u001b[49m\u001b[38;5;28;43mself\u001b[39;49m\u001b[38;5;241;43m.\u001b[39;49m\u001b[43mis_mongos\u001b[49m\u001b[43m,\u001b[49m\n\u001b[1;32m    973\u001b[0m \u001b[43m        \u001b[49m\u001b[43mread_preference\u001b[49m\u001b[43m,\u001b[49m\n\u001b[1;32m    974\u001b[0m \u001b[43m        \u001b[49m\u001b[43mcodec_options\u001b[49m\u001b[43m,\u001b[49m\n\u001b[1;32m    975\u001b[0m \u001b[43m        \u001b[49m\u001b[43msession\u001b[49m\u001b[43m,\u001b[49m\n\u001b[1;32m    976\u001b[0m \u001b[43m        \u001b[49m\u001b[43mclient\u001b[49m\u001b[43m,\u001b[49m\n\u001b[1;32m    977\u001b[0m \u001b[43m        \u001b[49m\u001b[43mcheck\u001b[49m\u001b[43m,\u001b[49m\n\u001b[1;32m    978\u001b[0m \u001b[43m        \u001b[49m\u001b[43mallowable_errors\u001b[49m\u001b[43m,\u001b[49m\n\u001b[1;32m    979\u001b[0m \u001b[43m        \u001b[49m\u001b[38;5;28;43mself\u001b[39;49m\u001b[38;5;241;43m.\u001b[39;49m\u001b[43maddress\u001b[49m\u001b[43m,\u001b[49m\n\u001b[1;32m    980\u001b[0m \u001b[43m        \u001b[49m\u001b[43mlisteners\u001b[49m\u001b[43m,\u001b[49m\n\u001b[1;32m    981\u001b[0m \u001b[43m        \u001b[49m\u001b[38;5;28;43mself\u001b[39;49m\u001b[38;5;241;43m.\u001b[39;49m\u001b[43mmax_bson_size\u001b[49m\u001b[43m,\u001b[49m\n\u001b[1;32m    982\u001b[0m \u001b[43m        \u001b[49m\u001b[43mread_concern\u001b[49m\u001b[43m,\u001b[49m\n\u001b[1;32m    983\u001b[0m \u001b[43m        \u001b[49m\u001b[43mparse_write_concern_error\u001b[49m\u001b[38;5;241;43m=\u001b[39;49m\u001b[43mparse_write_concern_error\u001b[49m\u001b[43m,\u001b[49m\n\u001b[1;32m    984\u001b[0m \u001b[43m        \u001b[49m\u001b[43mcollation\u001b[49m\u001b[38;5;241;43m=\u001b[39;49m\u001b[43mcollation\u001b[49m\u001b[43m,\u001b[49m\n\u001b[1;32m    985\u001b[0m \u001b[43m        \u001b[49m\u001b[43mcompression_ctx\u001b[49m\u001b[38;5;241;43m=\u001b[39;49m\u001b[38;5;28;43mself\u001b[39;49m\u001b[38;5;241;43m.\u001b[39;49m\u001b[43mcompression_context\u001b[49m\u001b[43m,\u001b[49m\n\u001b[1;32m    986\u001b[0m \u001b[43m        \u001b[49m\u001b[43muse_op_msg\u001b[49m\u001b[38;5;241;43m=\u001b[39;49m\u001b[38;5;28;43mself\u001b[39;49m\u001b[38;5;241;43m.\u001b[39;49m\u001b[43mop_msg_enabled\u001b[49m\u001b[43m,\u001b[49m\n\u001b[1;32m    987\u001b[0m \u001b[43m        \u001b[49m\u001b[43munacknowledged\u001b[49m\u001b[38;5;241;43m=\u001b[39;49m\u001b[43munacknowledged\u001b[49m\u001b[43m,\u001b[49m\n\u001b[1;32m    988\u001b[0m \u001b[43m        \u001b[49m\u001b[43muser_fields\u001b[49m\u001b[38;5;241;43m=\u001b[39;49m\u001b[43muser_fields\u001b[49m\u001b[43m,\u001b[49m\n\u001b[1;32m    989\u001b[0m \u001b[43m        \u001b[49m\u001b[43mexhaust_allowed\u001b[49m\u001b[38;5;241;43m=\u001b[39;49m\u001b[43mexhaust_allowed\u001b[49m\u001b[43m,\u001b[49m\n\u001b[1;32m    990\u001b[0m \u001b[43m        \u001b[49m\u001b[43mwrite_concern\u001b[49m\u001b[38;5;241;43m=\u001b[39;49m\u001b[43mwrite_concern\u001b[49m\u001b[43m,\u001b[49m\n\u001b[1;32m    991\u001b[0m \u001b[43m    \u001b[49m\u001b[43m)\u001b[49m\n\u001b[1;32m    992\u001b[0m \u001b[38;5;28;01mexcept\u001b[39;00m (OperationFailure, NotPrimaryError):\n\u001b[1;32m    993\u001b[0m     \u001b[38;5;28;01mraise\u001b[39;00m\n",
      "File \u001b[0;32m~/workspace/SuperDuperDB/poc-geti/env/lib/python3.10/site-packages/pymongo/network.py:151\u001b[0m, in \u001b[0;36mcommand\u001b[0;34m(conn, dbname, spec, is_mongos, read_preference, codec_options, session, client, check, allowable_errors, address, listeners, max_bson_size, read_concern, parse_write_concern_error, collation, compression_ctx, use_op_msg, unacknowledged, user_fields, exhaust_allowed, write_concern)\u001b[0m\n\u001b[1;32m    149\u001b[0m flags \u001b[38;5;241m=\u001b[39m _OpMsg\u001b[38;5;241m.\u001b[39mMORE_TO_COME \u001b[38;5;28;01mif\u001b[39;00m unacknowledged \u001b[38;5;28;01melse\u001b[39;00m \u001b[38;5;241m0\u001b[39m\n\u001b[1;32m    150\u001b[0m flags \u001b[38;5;241m|\u001b[39m\u001b[38;5;241m=\u001b[39m _OpMsg\u001b[38;5;241m.\u001b[39mEXHAUST_ALLOWED \u001b[38;5;28;01mif\u001b[39;00m exhaust_allowed \u001b[38;5;28;01melse\u001b[39;00m \u001b[38;5;241m0\u001b[39m\n\u001b[0;32m--> 151\u001b[0m request_id, msg, size, max_doc_size \u001b[38;5;241m=\u001b[39m \u001b[43mmessage\u001b[49m\u001b[38;5;241;43m.\u001b[39;49m\u001b[43m_op_msg\u001b[49m\u001b[43m(\u001b[49m\n\u001b[1;32m    152\u001b[0m \u001b[43m    \u001b[49m\u001b[43mflags\u001b[49m\u001b[43m,\u001b[49m\u001b[43m \u001b[49m\u001b[43mspec\u001b[49m\u001b[43m,\u001b[49m\u001b[43m \u001b[49m\u001b[43mdbname\u001b[49m\u001b[43m,\u001b[49m\u001b[43m \u001b[49m\u001b[43mread_preference\u001b[49m\u001b[43m,\u001b[49m\u001b[43m \u001b[49m\u001b[43mcodec_options\u001b[49m\u001b[43m,\u001b[49m\u001b[43m \u001b[49m\u001b[43mctx\u001b[49m\u001b[38;5;241;43m=\u001b[39;49m\u001b[43mcompression_ctx\u001b[49m\n\u001b[1;32m    153\u001b[0m \u001b[43m\u001b[49m\u001b[43m)\u001b[49m\n\u001b[1;32m    154\u001b[0m \u001b[38;5;66;03m# If this is an unacknowledged write then make sure the encoded doc(s)\u001b[39;00m\n\u001b[1;32m    155\u001b[0m \u001b[38;5;66;03m# are small enough, otherwise rely on the server to return an error.\u001b[39;00m\n\u001b[1;32m    156\u001b[0m \u001b[38;5;28;01mif\u001b[39;00m unacknowledged \u001b[38;5;129;01mand\u001b[39;00m max_bson_size \u001b[38;5;129;01mis\u001b[39;00m \u001b[38;5;129;01mnot\u001b[39;00m \u001b[38;5;28;01mNone\u001b[39;00m \u001b[38;5;129;01mand\u001b[39;00m max_doc_size \u001b[38;5;241m>\u001b[39m max_bson_size:\n",
      "File \u001b[0;32m~/workspace/SuperDuperDB/poc-geti/env/lib/python3.10/site-packages/pymongo/message.py:762\u001b[0m, in \u001b[0;36m_op_msg\u001b[0;34m(flags, command, dbname, read_preference, opts, ctx)\u001b[0m\n\u001b[1;32m    760\u001b[0m     \u001b[38;5;28;01mif\u001b[39;00m ctx:\n\u001b[1;32m    761\u001b[0m         \u001b[38;5;28;01mreturn\u001b[39;00m _op_msg_compressed(flags, command, identifier, docs, opts, ctx)\n\u001b[0;32m--> 762\u001b[0m     \u001b[38;5;28;01mreturn\u001b[39;00m \u001b[43m_op_msg_uncompressed\u001b[49m\u001b[43m(\u001b[49m\u001b[43mflags\u001b[49m\u001b[43m,\u001b[49m\u001b[43m \u001b[49m\u001b[43mcommand\u001b[49m\u001b[43m,\u001b[49m\u001b[43m \u001b[49m\u001b[43midentifier\u001b[49m\u001b[43m,\u001b[49m\u001b[43m \u001b[49m\u001b[43mdocs\u001b[49m\u001b[43m,\u001b[49m\u001b[43m \u001b[49m\u001b[43mopts\u001b[49m\u001b[43m)\u001b[49m\n\u001b[1;32m    763\u001b[0m \u001b[38;5;28;01mfinally\u001b[39;00m:\n\u001b[1;32m    764\u001b[0m     \u001b[38;5;66;03m# Add the field back to the command.\u001b[39;00m\n\u001b[1;32m    765\u001b[0m     \u001b[38;5;28;01mif\u001b[39;00m identifier:\n",
      "\u001b[0;31mInvalidDocument\u001b[0m: documents must have only string keys, key was $_outputs.elements.chunk.{version}"
     ]
    }
   ],
   "source": [
    "from superduperdb.ext.openai import OpenAIEmbedding\n",
    "from superduperdb.base.artifact import Artifact\n",
    "from tqdm import tqdm\n",
    "def _predict(self, X, one: bool = False, **kwargs):\n",
    "    if isinstance(X, str) or one:\n",
    "        if isinstance(self.preprocess, Artifact):\n",
    "            X = self.preprocess.artifact(X)\n",
    "        return self._predict_one(X)\n",
    "\n",
    "    if isinstance(self.preprocess, Artifact):\n",
    "        X = [self.preprocess.artifact(i) for i in X]\n",
    "\n",
    "    out = []\n",
    "    batch_size = kwargs.pop(\"batch_size\", 100)\n",
    "    for i in tqdm(range(0, len(X), batch_size)):\n",
    "        out.extend(self._predict_a_batch(X[i : i + batch_size], **kwargs))\n",
    "    return out\n",
    "\n",
    "\n",
    "OpenAIEmbedding._predict = _predict\n",
    "\n",
    "from superduperdb.ext.openai import OpenAIEmbedding\n",
    "from superduperdb.base.artifact import Artifact\n",
    "from superduperdb import VectorIndex\n",
    "\n",
    "def preprocess(x):\n",
    "    print(x)\n",
    "    if isinstance(x, dict):\n",
    "        # For model chains, the logic of this key needs to be optimized.\n",
    "        chunk = sorted(x.items())[-1][1]\n",
    "        return chunk[\"text\"]\n",
    "    return x\n",
    "\n",
    "# Create an instance of the OpenAIEmbedding model with the specified identifier ('text-embedding-ada-002')\n",
    "model = OpenAIEmbedding(\n",
    "    identifier='text-embedding-ada-002',\n",
    "    model=\"text-embedding-ada-002\",\n",
    "    preprocess=Artifact(preprocess),\n",
    ")\n",
    "\n",
    "\n",
    "db.add(\n",
    "    VectorIndex(\n",
    "        identifier='vector_index',\n",
    "        indexing_listener=Listener(\n",
    "            select=Collection('pages').find().outputs(elements='chunk'),\n",
    "            key='_outputs.elements.chunk',  # Key for the documents\n",
    "            model=model,  # Specify the model for processing\n",
    "            predict_kwargs={\"max_chunk_size\": 64},\n",
    "        ),\n",
    "    )\n",
    ")\n"
   ]
  },
  {
   "cell_type": "markdown",
   "id": "fb4477b3-eab2-48b5-bbe9-e223c80646dc",
   "metadata": {},
   "source": [
    "Define a function for vector search."
   ]
  },
  {
   "cell_type": "code",
   "execution_count": null,
   "id": "227fa3d2-ffff-489a-a549-76aff63fb65c",
   "metadata": {},
   "outputs": [],
   "source": [
    "def vector_search(db, query, top_k=5):\n",
    "    logging.info(f\"Vector search query: {query}\")\n",
    "    collection = Collection('_outputs.elements.chunk')\n",
    "    outs = db.execute(\n",
    "        collection.like(\n",
    "            Document({\"_outputs.elements.chunk\": query}),\n",
    "            vector_index=\"vector_index\",\n",
    "            n=top_k,\n",
    "        ).find({})\n",
    "    )\n",
    "    if outs:\n",
    "        outs = sorted(outs, key=lambda x: x.content[\"score\"], reverse=True)\n",
    "    for out in outs:\n",
    "        print(\"-\" * 20, '\\n')\n",
    "        data = out.outputs(\"elements\", 'chunk')\n",
    "    \n",
    "        source = out.content['_source']\n",
    "        source_url = Collection('pages').find_one({\"_id\": source}).execute(db)['url']\n",
    "        data = out.outputs(\"elements\", 'chunk')\n",
    "        url = source_url + data['url']\n",
    "        print(url, out['score'])\n",
    "        print(data[\"text\"])"
   ]
  },
  {
   "cell_type": "code",
   "execution_count": 41,
   "id": "07f1b885-ff42-45dc-be2e-649ab2b674dc",
   "metadata": {},
   "outputs": [],
   "source": [
    "# db = superduper(\"mongodb://127.0.0.1:27017/intel-geti\")"
   ]
  },
  {
   "cell_type": "code",
   "execution_count": 32,
   "id": "372fb2c1-1de1-482e-baee-1553b4f72c6c",
   "metadata": {},
   "outputs": [
    {
     "name": "stderr",
     "output_type": "stream",
     "text": [
      "[2024-02-19 16:29:19] root INFO Vector search query: Learn how to interact with the Intel® Geti™ platform programmatically, bypassing the user interface.\n",
      "[2024-02-19 16:29:19] httpx INFO HTTP Request: POST https://api.openai.com/v1/embeddings \"HTTP/1.1 200 OK\"\n"
     ]
    },
    {
     "name": "stdout",
     "output_type": "stream",
     "text": [
      "\u001b[32m 2024-Feb-19 16:29:19.80\u001b[0m| \u001b[1mINFO    \u001b[0m | \u001b[36m183eefeaab2d\u001b[0m| \u001b[36m84b42ae7-76eb-459e-97d7-5d784a1233ee\u001b[0m| \u001b[36msuperduperdb.base.datalayer\u001b[0m:\u001b[36m154 \u001b[0m | \u001b[1mloading of vectors of vector-index: 'vector_index'\u001b[0m\n",
      "\u001b[32m 2024-Feb-19 16:29:19.80\u001b[0m| \u001b[1mINFO    \u001b[0m | \u001b[36m183eefeaab2d\u001b[0m| \u001b[36m84b42ae7-76eb-459e-97d7-5d784a1233ee\u001b[0m| \u001b[36msuperduperdb.base.datalayer\u001b[0m:\u001b[36m170 \u001b[0m | \u001b[1m<superduperdb.backends.mongodb.query.MongoCompoundSelect[\n",
      "    \u001b[92m\u001b[1m_outputs.elements.chunk.elements.chunk.find({}, {'_outputs.elements.text-embedding-ada-002.0': '1', '_outputs.elements.text-embedding-ada-002/0': '1', '_id': '1'})\u001b[0m\n",
      "] object at 0x29d0dcbe0>\u001b[0m\n"
     ]
    },
    {
     "name": "stderr",
     "output_type": "stream",
     "text": [
      "Loading vectors into vector-table...: 370it [00:00, 778.33it/s]"
     ]
    },
    {
     "name": "stdout",
     "output_type": "stream",
     "text": [
      "-------------------- \n",
      "\n",
      "https://docs.geti.intel.com/on-prem/1.8/guide/get-started/introduction.html#introduction 0.8708402222041286\n",
      "# Introduction\n",
      "\n",
      "Welcome to IntelÂ® Getiâ¢ documentation! Our documentation is broadly divided into the following blocks on the sidebar:\n",
      "\n",
      "- Get Started - Discover what the IntelÂ® Getiâ¢ platform is, eplore its capabilities, and learn how to train your very first model using the IntelÂ® Getiâ¢ platform.\n",
      "\n",
      "- Understanding the UI - Discover the core functionality of the IntelÂ® Getiâ¢ platform and get to know your way around the user interface.\n",
      "\n",
      "- REST API - Learn how to interact with the IntelÂ® Getiâ¢ platform programmatically, bypassing the user interface.\n",
      "\n",
      "- Additional Resources - Understand the fundamental concepts of artificial intelligence, and learn how to optimize the use of the IntelÂ® Getiâ¢ platform with IntelÂ® Hardware, among other things.\n",
      "\n",
      "- On-prem Installation - Dive into the step-by-step process of installing and configuring the IntelÂ® Getiâ¢ platform on your local infrastructure.\n",
      "-------------------- \n",
      "\n",
      "https://docs.geti.intel.com/on-prem/1.8/guide/release-notes/1.0-beta/release-1.0-beta.html#about-the-intel-geti-platform 0.8641122023081151\n",
      "# IntelÂ® Getiâ¢ 1.0.0 Beta\n",
      "\n",
      "## About the IntelÂ® Getiâ¢ platform\n",
      "\n",
      "The IntelÂ® Getiâ¢ platform enables enterprise teams to rapidly build computer vision AI models. Through an intuitive graphical interface, users add image or video data, make annotations, train, retrain, export, and optimize AI models for deployment. Equipped with state-of-the-art technology such as active learning, task chaining, and smart annotations, the IntelÂ® Getiâ¢ platform reduces labor-intensive tasks, enables collaborative model development, and speeds up model creation.\n",
      "-------------------- \n",
      "\n",
      "https://docs.geti.intel.com/on-prem/1.8/guide/get-started/tutorials/tutorials.html#creating-a-new-project 0.8634709794421784\n",
      "# Tutorials\n",
      "\n",
      "## Creating a new project\n",
      "\n",
      "In this tutorial, you will learn how to create a project in the IntelÂ® Getiâ¢ platform.\n",
      "-------------------- \n",
      "\n",
      "https://docs.geti.intel.com/on-prem/1.8/guide/release-notes/release-notes.html#about-the-intel-geti-platform 0.8613775136743788\n",
      "# Release Notes\n",
      "\n",
      "## About the IntelÂ® Getiâ¢ platform\n",
      "\n",
      "The IntelÂ® Getiâ¢ platform enables enterprise teams to rapidly build computer vision AI models. Through an intuitive graphical interface, users add image or video data, make annotations, train, retrain, export, and optimize AI models for deployment. Equipped with state-of-the-art technology such as active learning, task chaining, and smart annotations, the IntelÂ® Getiâ¢ platform reduces labor-intensive tasks, enables collaborative model development, and speeds up model creation.\n",
      "-------------------- \n",
      "\n",
      "https://docs.geti.intel.com/on-prem/1.8/guide/installation-guide/installation.html#background-knowledge 0.8605959024367987\n",
      "# Installation Guide\n",
      "\n",
      "## Background Knowledge\n",
      "\n",
      "This guide seeks to provide a clear and concise introduction to some of the foundational technologies and concepts that power the Intel Geti platform. If you are just stepping into the world of this particular tech (a warm welcome to you!), you might find it advantageous to get acquainted with some core principles first.\n",
      "\n",
      "You do not need to be a maestro in the areas below - just a cursory understanding will suffice. As you progress through the guide, you will gain a richer understanding.\n"
     ]
    },
    {
     "name": "stderr",
     "output_type": "stream",
     "text": [
      "\n"
     ]
    }
   ],
   "source": [
    "outs = vector_search(db, \"Learn how to interact with the Intel® Geti™ platform programmatically, bypassing the user interface.\")\n"
   ]
  },
  {
   "cell_type": "markdown",
   "id": "f553ec94-83e9-4d48-aeb4-10f9ef329f94",
   "metadata": {},
   "source": [
    "## Building Document Functionality Using ChatGPT Model"
   ]
  },
  {
   "cell_type": "code",
   "execution_count": 33,
   "id": "4651daa0-8fc0-43b9-935b-ffcec51e0204",
   "metadata": {},
   "outputs": [
    {
     "name": "stdout",
     "output_type": "stream",
     "text": [
      "['chunk', 'gpt-3.5-turbo', 'text-embedding-ada-002']\n"
     ]
    }
   ],
   "source": [
    "from superduperdb.ext.openai import OpenAIChatCompletion\n",
    "prompt = \"\"\"\n",
    "As an Intel GETI assistant, based on the provided document snippets and the question, answer the question.\n",
    "If the document does not provide an answer, offer a safe response without fabricating an answer.\n",
    "\n",
    "Document snippet: {context}\n",
    "\n",
    "Question: \"\"\"\n",
    "\n",
    "llm = OpenAIChatCompletion(identifier='gpt-3.5-turbo', prompt=prompt)\n",
    "\n",
    "db.add(llm)\n",
    "\n",
    "print(db.show('model'))"
   ]
  },
  {
   "cell_type": "code",
   "execution_count": 46,
   "id": "9010e120-c948-4ebd-8969-8d1614b8afb3",
   "metadata": {},
   "outputs": [],
   "source": [
    "def qa(db, query, vector_search_top_k=5):\n",
    "    logging.info(f\"QA query: {query}\")\n",
    "    collection = Collection(\"_outputs.elements.chunk\")\n",
    "    output, sources = db.predict(\n",
    "        model_name='gpt-3.5-turbo',\n",
    "        input=query,\n",
    "        context_select=collection.like(\n",
    "            Document({\"_outputs.elements.chunk\": query}),\n",
    "            vector_index=\"vector_index\",\n",
    "            n=vector_search_top_k,\n",
    "        ).find({}),\n",
    "        context_key=\"_outputs.elements.chunk.0.text\",\n",
    "    )\n",
    "    if sources:\n",
    "        sources = sorted(sources, key=lambda x: x.content[\"score\"], reverse=True)\n",
    "    return output, sources\n"
   ]
  },
  {
   "cell_type": "code",
   "execution_count": 52,
   "id": "e577446c-b684-42dc-bd20-81a32ef1d98b",
   "metadata": {},
   "outputs": [],
   "source": [
    "def process_sources(sources):\n",
    "    results = []\n",
    "    for source in sources:\n",
    "        source_data = source.content[\"_source\"]\n",
    "        source_url = (\n",
    "            Collection(\"pages\").find_one({\"_id\": source_data}).execute(db)[\"url\"]\n",
    "        )\n",
    "        data = source.outputs(\"elements\", \"chunk\")\n",
    "        url = source_url + data[\"url\"]\n",
    "        results.append(\n",
    "            {\n",
    "                \"score\": source[\"score\"],\n",
    "                \"url\": url,\n",
    "            }\n",
    "        )\n",
    "    return results\n"
   ]
  },
  {
   "cell_type": "code",
   "execution_count": 53,
   "id": "09dcd77f-4a2b-4c3f-af55-367886b83532",
   "metadata": {},
   "outputs": [
    {
     "data": {
      "text/plain": [
       "[{'score': 0.8585718976409569,\n",
       "  'url': 'https://docs.geti.intel.com/on-prem/1.8/guide/installation-guide/installation.html#installation-at-a-glance'},\n",
       " {'score': 0.8243211971856605,\n",
       "  'url': 'https://docs.geti.intel.com/on-prem/1.8/guide/installation-guide/installation.html#installation-guide'},\n",
       " {'score': 0.8153833191961699,\n",
       "  'url': 'https://openvinotoolkit.github.io/geti-sdk/getting_started.html#installing-from-the-git-repo'},\n",
       " {'score': 0.8080372840084254,\n",
       "  'url': 'https://docs.geti.intel.com/on-prem/1.8/guide/installation-guide/installation/downloading-package.html#part-2-downloading-the-package'},\n",
       " {'score': 0.8061480481045303,\n",
       "  'url': 'https://docs.geti.intel.com/on-prem/1.8/guide/installation-guide/installation/install-guide.html#installing-the-intel-geti-platform'}]"
      ]
     },
     "execution_count": 53,
     "metadata": {},
     "output_type": "execute_result"
    }
   ],
   "source": [
    "process_sources(sources)"
   ]
  },
  {
   "cell_type": "code",
   "execution_count": 50,
   "id": "8d3389ba-0cea-4e77-ba93-79532ee8baa3",
   "metadata": {},
   "outputs": [
    {
     "name": "stderr",
     "output_type": "stream",
     "text": [
      "[2024-02-19 16:55:51] root INFO QA query: How to install\n",
      "[2024-02-19 16:55:52] httpx INFO HTTP Request: POST https://api.openai.com/v1/embeddings \"HTTP/1.1 200 OK\"\n",
      "[2024-02-19 16:55:57] httpx INFO HTTP Request: POST https://api.openai.com/v1/chat/completions \"HTTP/1.1 200 OK\"\n"
     ]
    },
    {
     "data": {
      "text/markdown": [
       "To install the Intel GETI platform, you can follow these general steps:\n",
       "\n",
       "1. Ensure that all hardware, software, network, and security prerequisites are met on your Ubuntu machine.\n",
       "2. Download and extract the Intel GETI installation package on your server.\n",
       "3. Navigate to the extracted folder and choose between installation modes: with wizard (interactive) or with configuration file (pre-filled data).\n",
       "4. Follow the installation instructions provided in the platform installation package.\n",
       "\n",
       "For specific and detailed installation instructions, please refer to the official Intel GETI platform documentation or installation guide."
      ],
      "text/plain": [
       "<IPython.core.display.Markdown object>"
      ]
     },
     "metadata": {},
     "output_type": "display_data"
    },
    {
     "name": "stdout",
     "output_type": "stream",
     "text": [
      "https://docs.geti.intel.com/on-prem/1.8/guide/installation-guide/installation.html#installing-the-intel-geti-platform\n",
      "https://docs.geti.intel.com/on-prem/1.8/guide/installation-guide/installation.html#installing-the-intel-geti-platform\n",
      "https://openvinotoolkit.github.io/geti-sdk/getting_started.html#installing-the-intel-geti-platform\n",
      "https://docs.geti.intel.com/on-prem/1.8/guide/installation-guide/installation/downloading-package.html#installing-the-intel-geti-platform\n",
      "https://docs.geti.intel.com/on-prem/1.8/guide/installation-guide/installation/install-guide.html#installing-the-intel-geti-platform\n"
     ]
    }
   ],
   "source": [
    "from IPython.display import Markdown, display\n",
    "\n",
    "output, sources = qa(db, \"How to install\")\n",
    "display(Markdown(output.content))\n",
    "for source in sources:\n",
    "    source_data = source.content['_source']\n",
    "    source_url = Collection('pages').find_one({\"_id\": source_data}).execute(db)['url']\n",
    "    data = out.outputs(\"elements\", 'chunk')\n",
    "    url = source_url + data['url']\n",
    "    print(url)"
   ]
  },
  {
   "cell_type": "code",
   "execution_count": null,
   "id": "c4e17c5e-f200-404e-9c4a-993d8990abad",
   "metadata": {},
   "outputs": [],
   "source": []
  }
 ],
 "metadata": {
  "kernelspec": {
   "display_name": "Python 3 (ipykernel)",
   "language": "python",
   "name": "python3"
  },
  "language_info": {
   "codemirror_mode": {
    "name": "ipython",
    "version": 3
   },
   "file_extension": ".py",
   "mimetype": "text/x-python",
   "name": "python",
   "nbconvert_exporter": "python",
   "pygments_lexer": "ipython3",
   "version": "3.10.7"
  }
 },
 "nbformat": 4,
 "nbformat_minor": 5
}
